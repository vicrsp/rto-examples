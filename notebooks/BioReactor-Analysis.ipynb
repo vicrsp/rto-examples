{
 "cells": [
  {
   "cell_type": "code",
   "execution_count": null,
   "source": [
    "from rto.models.bio_reactor import BioReactor\n",
    "# Loading the necessary packages\n",
    "%load_ext autoreload\n",
    "%autoreload 2\n",
    "%matplotlib inline\n",
    "\n",
    "import numpy as np\n",
    "import pandas as pd\n",
    "import logging\n",
    "from sklearn.utils import Bunch\n",
    "logging.basicConfig(level=logging.ERROR)\n",
    "\n",
    "from rto.models.williams_otto import WilliamsOttoReactor, WilliamsOttoReactorSimplified\n",
    "from rto.optimization.optimizer import ModifierAdaptationOptimizer, ModelBasedOptimizer\n",
    "from rto.optimization.bayesian import ModelBasedBayesianOptimizer\n",
    "from rto.rto import RTOBayesian, RTO\n",
    "from rto.adaptation.ma_gaussian_processes import MAGaussianProcesses\n",
    "from rto.utils import generate_samples_uniform\n",
    "from rto.experiment.analysis import ExperimentAnalyzer\n",
    "from rto.models.bio_reactor import BioReactor\n",
    "\n",
    "# backup script\n",
    "DATABASE = \"file::memory:?cache=shared\"\n",
    "!python ../scripts/create_database.py -m"
   ],
   "outputs": [],
   "metadata": {}
  },
  {
   "cell_type": "code",
   "execution_count": null,
   "source": [
    "# Our complete model will be called the \"plant\"\n",
    "plant = BioReactor()\n",
    "# And the uncertain is the \"model\"\n",
    "# model = BioReactor()\n",
    "ubx = np.tile([400, 40], 6)\n",
    "lbx = np.tile([120, 0], 6)\n",
    "x0 = np.tile([120, 0], 6)\n",
    "g = np.append(np.zeros((6,)), 800*np.ones((6,)))\n",
    "g = np.append(g, [150])"
   ],
   "outputs": [],
   "metadata": {}
  },
  {
   "cell_type": "code",
   "execution_count": null,
   "source": [
    "optimizer = ModelBasedOptimizer(ub=ubx, lb=lbx, g=g, solver={'name': 'de'})\n",
    "f_plant, u_plant ,_ = optimizer.run(plant, x0)\n",
    "\n",
    "print(f'Plant: u*={u_plant}, f*={f_plant}')"
   ],
   "outputs": [],
   "metadata": {}
  },
  {
   "cell_type": "code",
   "execution_count": null,
   "source": [],
   "outputs": [],
   "metadata": {}
  }
 ],
 "metadata": {
  "orig_nbformat": 4,
  "language_info": {
   "name": "python",
   "version": "3.9.6",
   "mimetype": "text/x-python",
   "codemirror_mode": {
    "name": "ipython",
    "version": 3
   },
   "pygments_lexer": "ipython3",
   "nbconvert_exporter": "python",
   "file_extension": ".py"
  },
  "kernelspec": {
   "name": "python3",
   "display_name": "Python 3.9.6 64-bit ('rto-debug': conda)"
  },
  "interpreter": {
   "hash": "340861b49ceb10eab6e90e49bcadd95c453101e2c5221b8cc6029df2c3998086"
  }
 },
 "nbformat": 4,
 "nbformat_minor": 2
}