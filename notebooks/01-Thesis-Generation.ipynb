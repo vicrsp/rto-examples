{
 "cells": [
  {
   "cell_type": "markdown",
   "source": [
    "# Real-Time Optimization\n",
    "## Modifier Adaptation with Bayesian Optimization using EIC acquisition\n",
    "### Preliminary thesis results"
   ],
   "metadata": {}
  },
  {
   "cell_type": "code",
   "execution_count": 19,
   "source": [
    "# Loading the necessary packages\n",
    "%load_ext autoreload\n",
    "%autoreload 2\n",
    "%matplotlib inline\n",
    "\n",
    "import numpy as np\n",
    "import pandas as pd\n",
    "import matplotlib.pyplot as plt\n",
    "import logging\n",
    "from sklearn.utils import Bunch\n",
    "\n",
    "plt.rcParams['axes.grid'] = True\n",
    "plt.rcParams['grid.linestyle'] = \"dotted\"\n",
    "\n",
    "logging.getLogger('matplotlib.font_manager').disabled = True\n",
    "logging.getLogger('matplotlib.ticker').disabled = True\n",
    "logging.getLogger('matplotlib.colorbar').disabled = True\n",
    "logging.basicConfig(level=logging.ERROR)\n",
    "\n",
    "from rto.models.williams_otto import WilliamsOttoReactor, WilliamsOttoReactorSimplified\n",
    "from rto.optimization.optimizer import ModifierAdaptationOptimizer, ModelBasedOptimizer\n",
    "from rto.optimization.bayesian import ModelBasedBayesianOptimizer\n",
    "from rto.rto import RTOBayesian, RTO\n",
    "from rto.adaptation.ma_gaussian_processes import MAGaussianProcesses\n",
    "from rto.utils import generate_samples_uniform\n",
    "from rto.experiment.analysis import ExperimentAnalyzer\n",
    "\n",
    "# backup script\n",
    "!python ../scripts/create_database.py -n thesis-analysis-01 -f /mnt/d/rto_data/\n",
    "DATABASE = \"/mnt/d/rto_data/thesis-analysis-01.db\""
   ],
   "outputs": [
    {
     "output_type": "stream",
     "name": "stdout",
     "text": [
      "The autoreload extension is already loaded. To reload it, use:\n",
      "  %reload_ext autoreload\n",
      "Creating database to /mnt/d/rto_data//thesis-analysis-01.db\n"
     ]
    }
   ],
   "metadata": {}
  },
  {
   "cell_type": "code",
   "execution_count": 20,
   "source": [
    "# Our complete model will be called the \"plant\"\n",
    "plant = WilliamsOttoReactor()\n",
    "# And the uncertain is the \"model\"\n",
    "model = WilliamsOttoReactorSimplified()\n",
    "# define the constraints\n",
    "g0 = 0.12\n",
    "g1 = 0.08\n",
    "ubx = [6, 100]\n",
    "lbx = [3, 70]\n",
    "g = np.array([g0, g1])"
   ],
   "outputs": [],
   "metadata": {}
  },
  {
   "cell_type": "code",
   "execution_count": 21,
   "source": [
    "optimizer = ModelBasedOptimizer(ub=ubx, lb=lbx, g=g)\n",
    "f_plant, u_plant ,_ = optimizer.run(plant, [])\n",
    "f_model, u_model ,_ = optimizer.run(model, [])\n",
    "\n",
    "print(f'Plant: u*={u_plant}, f*={f_plant}')\n",
    "print(f'Model: u*={u_model}, f*={f_model}')"
   ],
   "outputs": [
    {
     "output_type": "stream",
     "name": "stdout",
     "text": [
      "Plant: u*=[ 4.39660162 80.6783646 ], f*=-75.74584360132746\n",
      "Model: u*=[ 4.79150503 83.18406245], f*=-26.129268399613125\n"
     ]
    }
   ],
   "metadata": {}
  },
  {
   "cell_type": "markdown",
   "source": [
    "## Real-Time Optimization"
   ],
   "metadata": {}
  },
  {
   "cell_type": "markdown",
   "source": [
    "### Modifier Adaptation with Gaussian Processes"
   ],
   "metadata": {}
  },
  {
   "cell_type": "code",
   "execution_count": 22,
   "source": [
    "# Define the system parameters\n",
    "u_0 = u_model\n",
    "iterations = 30\n",
    "initial_data_size = 5\n",
    "\n",
    "# sample some initial data\n",
    "u, y, measurements = generate_samples_uniform(model, plant, g, u_0, initial_data_size, noise=0.0)\n",
    "initial_data = Bunch(u=u, y=y, measurements=measurements)\n",
    "u_0_feas = u[-1]"
   ],
   "outputs": [],
   "metadata": {}
  },
  {
   "cell_type": "code",
   "execution_count": 23,
   "source": [
    "# create the adaptation strategy\n",
    "adaptation_de = MAGaussianProcesses(model, initial_data, ub=ubx, lb=lbx, filter_data=True, neighbors_type='k_last')\n",
    "adaptation_sqp = MAGaussianProcesses(model, initial_data, ub=ubx, lb=lbx, filter_data=True, neighbors_type='k_last')\n",
    "# create the optmizer instances\n",
    "optimizer_ma_de = ModifierAdaptationOptimizer(ub=ubx, lb=lbx, g=g, solver={'name': 'de'}, backoff=0.0)\n",
    "optimizer_ma_sqp = ModifierAdaptationOptimizer(ub=ubx, lb=lbx, g=g, solver={'name': 'sqp'}, backoff=0.0)\n",
    "\n",
    "rto_ma_sqp = RTO(model, plant, optimizer_ma_sqp, adaptation_sqp, iterations, db_file=DATABASE, name='MA-GP-SQP', noise=0.0)\n",
    "rto_ma_de = RTO(model, plant, optimizer_ma_de, adaptation_de, iterations, db_file=DATABASE, name='MA-GP-DE', noise=0.0)\n",
    "\n",
    "rto_ma_sqp.run(u_0_feas)\n",
    "rto_ma_de.run(u_0_feas)"
   ],
   "outputs": [
    {
     "output_type": "execute_result",
     "data": {
      "text/plain": [
       "2"
      ]
     },
     "metadata": {},
     "execution_count": 23
    }
   ],
   "metadata": {}
  },
  {
   "cell_type": "markdown",
   "source": [
    "### Effect of Noise\n",
    "\n",
    "The results above are for the scenario where we have no noise in the plant measuremets. Since this is not the reality, an interesting test is to check how it can impact the RTO performance. For that, we consider a 0.01 additive gaussian noise, but using the same parameters as the previous system."
   ],
   "metadata": {}
  },
  {
   "cell_type": "code",
   "execution_count": 24,
   "source": [
    "noise = 0.01\n",
    "repetitions = 10\n",
    "\n",
    "adaptation_de_noise = MAGaussianProcesses(model, initial_data, ub=ubx, lb=lbx, filter_data=True, neighbors_type='k_last')\n",
    "adaptation_sqp_noise = MAGaussianProcesses(model, initial_data, ub=ubx, lb=lbx, filter_data=True, neighbors_type='k_last')\n",
    "\n",
    "rto_ma_sqp_noise = RTO(model, plant, optimizer_ma_sqp, adaptation_sqp_noise, iterations, db_file=DATABASE, name='MA-GP-SQP+noise', noise=noise)\n",
    "rto_ma_de_noise = RTO(model, plant, optimizer_ma_de, adaptation_de_noise, iterations, db_file=DATABASE, name='MA-GP-DE+noise', noise=noise)\n",
    "\n",
    "for i in range(repetitions):\n",
    "    rto_ma_sqp_noise.run(u_0_feas)\n",
    "    rto_ma_de_noise.run(u_0_feas)"
   ],
   "outputs": [],
   "metadata": {}
  },
  {
   "cell_type": "markdown",
   "source": [
    "### Using different initial data points"
   ],
   "metadata": {}
  },
  {
   "cell_type": "code",
   "execution_count": 25,
   "source": [
    "# sample some initial data\n",
    "# generate all the data before\n",
    "n_datasets = 10\n",
    "datasets = []\n",
    "for i in range(n_datasets):\n",
    "    u_i, y_i, measurements_i = generate_samples_uniform(model, plant, g, u_0, initial_data_size, noise=noise)\n",
    "    initial_dataset = Bunch(u=u_i, y=y_i, measurements=measurements_i)\n",
    "    datasets.append(initial_dataset)"
   ],
   "outputs": [
    {
     "output_type": "stream",
     "name": "stderr",
     "text": [
      "/home/victor/miniconda3/envs/rto-debug/lib/python3.9/site-packages/rto/utils.py:56: VisibleDeprecationWarning: Creating an ndarray from ragged nested sequences (which is a list-or-tuple of lists-or-tuples-or ndarrays with different lengths or shapes) is deprecated. If you meant to do this, you must specify 'dtype=object' when creating the ndarray.\n",
      "  meas_initial.append(np.array([fr, gr, fm, gm]))\n"
     ]
    }
   ],
   "metadata": {}
  },
  {
   "cell_type": "code",
   "execution_count": 26,
   "source": [
    "for i in range(n_datasets):\n",
    "    initial_dataset = datasets[i]\n",
    "    # create the adaptation strategy\n",
    "    adaptation_de_noise_dataset = MAGaussianProcesses(model, initial_dataset, ub=ubx, lb=lbx, filter_data=True, neighbors_type='k_last')\n",
    "    adaptation_sqp_noise_dataset = MAGaussianProcesses(model, initial_dataset, ub=ubx, lb=lbx, filter_data=True, neighbors_type='k_last')\n",
    "    # create the RTO\n",
    "    rto_ma_sqp_noise_dataset = RTO(model, plant, optimizer_ma_sqp, adaptation_sqp_noise_dataset, iterations, db_file=DATABASE, name='MA-GP-SQP+noise-datasets', noise=noise)\n",
    "    rto_ma_de_noise_dataset = RTO(model, plant, optimizer_ma_de, adaptation_de_noise_dataset, iterations, db_file=DATABASE, name='MA-GP-DE+noise-datasets', noise=noise)\n",
    "    # run the RTO\n",
    "    u_0_feas_noise = initial_dataset.u[-1]\n",
    "    rto_ma_sqp_noise_dataset.run(u_0_feas_noise)\n",
    "    rto_ma_de_noise_dataset.run(u_0_feas_noise)"
   ],
   "outputs": [],
   "metadata": {}
  },
  {
   "cell_type": "markdown",
   "source": [
    "## EIC acquisition function"
   ],
   "metadata": {}
  },
  {
   "cell_type": "markdown",
   "source": [
    "### Optimizer Choice\n",
    "Using the same initial data as MA-GP without noise."
   ],
   "metadata": {}
  },
  {
   "cell_type": "code",
   "execution_count": 27,
   "source": [
    "adaptation_bay_de = MAGaussianProcesses(model, initial_data, ub=ubx, lb=lbx, filter_data=True, neighbors_type='k_last')\n",
    "adaptation_bay_sqp = MAGaussianProcesses(model, initial_data, ub=ubx, lb=lbx, filter_data=True, neighbors_type='k_last')\n",
    "\n",
    "optimizer_bay_de = ModelBasedBayesianOptimizer(ub=ubx, lb=lbx, g=g, solver={'name': 'de'}, backoff=0.0)\n",
    "optimizer_bay_sqp = ModelBasedBayesianOptimizer(ub=ubx, lb=lbx, g=g, solver={'name': 'sqp'}, backoff=0.0)\n",
    "\n",
    "rto_bay_de = RTOBayesian(model, plant, optimizer_bay_de, adaptation_bay_de, iterations, db_file=DATABASE, name='MA-GP-Bayesian-DE', noise=0.0)\n",
    "rto_bay_sqp = RTOBayesian(model, plant, optimizer_bay_sqp, adaptation_bay_sqp, iterations, db_file=DATABASE, name='MA-GP-Bayesian-SQP', noise=0.0)\n",
    "\n",
    "u_0_feas = u[-1]\n",
    "rto_bay_sqp.run(u_0_feas)\n",
    "rto_bay_de.run(u_0_feas)"
   ],
   "outputs": [
    {
     "output_type": "execute_result",
     "data": {
      "text/plain": [
       "44"
      ]
     },
     "metadata": {},
     "execution_count": 27
    }
   ],
   "metadata": {}
  },
  {
   "cell_type": "markdown",
   "source": [
    "### Different initial points with noise"
   ],
   "metadata": {}
  },
  {
   "cell_type": "code",
   "execution_count": 28,
   "source": [
    "for i in range(n_datasets):\n",
    "    initial_dataset = datasets[i]\n",
    "    adaptation_bay_de_noise = MAGaussianProcesses(model, initial_dataset, ub=ubx, lb=lbx, filter_data=True, neighbors_type='k_last')\n",
    "    rto_bay_de_noise = RTOBayesian(model, plant, optimizer_bay_de, adaptation_bay_de_noise, iterations, db_file=DATABASE, name='MA-GP-Bayesian-DE+noise-datasets', noise=noise)\n",
    "    rto_bay_de_noise.run(initial_dataset.u[-1])"
   ],
   "outputs": [],
   "metadata": {}
  },
  {
   "cell_type": "markdown",
   "source": [],
   "metadata": {}
  }
 ],
 "metadata": {
  "interpreter": {
   "hash": "340861b49ceb10eab6e90e49bcadd95c453101e2c5221b8cc6029df2c3998086"
  },
  "kernelspec": {
   "name": "python3",
   "display_name": "Python 3.9.6 64-bit ('rto-debug': conda)"
  },
  "language_info": {
   "codemirror_mode": {
    "name": "ipython",
    "version": 3
   },
   "file_extension": ".py",
   "mimetype": "text/x-python",
   "name": "python",
   "nbconvert_exporter": "python",
   "pygments_lexer": "ipython3",
   "version": "3.9.6"
  }
 },
 "nbformat": 4,
 "nbformat_minor": 2
}