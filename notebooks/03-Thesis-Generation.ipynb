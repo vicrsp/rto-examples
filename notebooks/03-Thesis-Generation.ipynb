{
 "cells": [
  {
   "cell_type": "markdown",
   "source": [
    "# Real-Time Optimization\n",
    "## Modifier Adaptation with Bayesian Optimization using EIC acquisition\n",
    "### Preliminary thesis results generation"
   ],
   "metadata": {}
  },
  {
   "cell_type": "code",
   "execution_count": null,
   "source": [
    "# Loading the necessary packages\n",
    "%load_ext autoreload\n",
    "%autoreload 2\n",
    "%matplotlib inline\n",
    "\n",
    "import numpy as np\n",
    "import pandas as pd\n",
    "import logging\n",
    "from sklearn.utils import Bunch\n",
    "logging.basicConfig(level=logging.ERROR)\n",
    "\n",
    "from rto.models.semi_batch import SemiBatchReactor\n",
    "from rto.optimization.optimizer import ModifierAdaptationOptimizer, ModelBasedOptimizer\n",
    "from rto.optimization.bayesian import ModelBasedBayesianOptimizer\n",
    "from rto.rto import RTOBayesian, RTO\n",
    "from rto.adaptation.ma_gaussian_processes import MAGaussianProcesses\n",
    "from rto.utils import generate_samples_uniform\n",
    "\n",
    "# backup script\n",
    "!python ../scripts/create_database.py -n thesis-analysis-05 -f /mnt/d/rto_data/\n",
    "DATABASE = \"/mnt/d/rto_data/thesis-analysis-05.db\""
   ],
   "outputs": [],
   "metadata": {}
  },
  {
   "cell_type": "code",
   "execution_count": null,
   "source": [
    "# Our complete model will be called the \"plant\"\n",
    "plant = SemiBatchReactor()\n",
    "# And the uncertain is the \"model\"\n",
    "model = SemiBatchReactor(k=[0.053, 0.128, 0.0, 0.0, 5])\n",
    "# define the constraints\n",
    "g0 = 0.025\n",
    "g1 = 0.15\n",
    "g = np.array([g0, g1])\n",
    "ubx = [30, 0.002, 250]\n",
    "lbx = [0, 0, 200]"
   ],
   "outputs": [],
   "metadata": {}
  },
  {
   "cell_type": "code",
   "execution_count": null,
   "source": [
    "optimizer = ModelBasedOptimizer(ub=ubx, lb=lbx, g=g)\n",
    "f_plant, u_plant ,_ = optimizer.run(plant, [])\n",
    "f_model, u_model ,_ = optimizer.run(model, [])\n",
    "\n",
    "print(f'Plant: u*={u_plant}, f*={f_plant}')\n",
    "print(f'Model: u*={u_model}, f*={f_model}')"
   ],
   "outputs": [],
   "metadata": {}
  },
  {
   "cell_type": "markdown",
   "source": [
    "## Real-Time Optimization"
   ],
   "metadata": {}
  },
  {
   "cell_type": "markdown",
   "source": [
    "### Modifier Adaptation with Gaussian Processes"
   ],
   "metadata": {}
  },
  {
   "cell_type": "code",
   "execution_count": null,
   "source": [
    "# Define the system parameters\n",
    "u_0 = u_model # [10.652103265931729, 0.0005141834799295323, 224.48063936756103] # use the same from the paper?\n",
    "iterations = 60\n",
    "initial_data_size = 5\n",
    "\n",
    "# sample some initial data\n",
    "u, y, measurements = generate_samples_uniform(model, plant, g, u_0, initial_data_size, noise=0.0)\n",
    "initial_data = Bunch(u=u, y=y, measurements=measurements)\n",
    "u_0_feas = u[-1]"
   ],
   "outputs": [],
   "metadata": {}
  },
  {
   "cell_type": "code",
   "execution_count": null,
   "source": [
    "# create the adaptation strategy\n",
    "adaptation_de = MAGaussianProcesses(model, initial_data, ub=ubx, lb=lbx, filter_data=True, neighbors_type='k_last')\n",
    "adaptation_sqp = MAGaussianProcesses(model, initial_data, ub=ubx, lb=lbx, filter_data=True, neighbors_type='k_last')\n",
    "# create the optmizer instances\n",
    "optimizer_ma_de = ModifierAdaptationOptimizer(ub=ubx, lb=lbx, g=g, solver={'name': 'de'}, backoff=0.0)\n",
    "optimizer_ma_sqp = ModifierAdaptationOptimizer(ub=ubx, lb=lbx, g=g, solver={'name': 'sqp'}, backoff=0.0)\n",
    "\n",
    "rto_ma_sqp = RTO(model, plant, optimizer_ma_sqp, adaptation_sqp, iterations, db_file=DATABASE, name='MA-GP-SQP', noise=0.0)\n",
    "rto_ma_de = RTO(model, plant, optimizer_ma_de, adaptation_de, iterations, db_file=DATABASE, name='MA-GP-DE', noise=0.0)\n",
    "\n",
    "rto_ma_sqp.run(u_0_feas)\n",
    "rto_ma_de.run(u_0_feas)"
   ],
   "outputs": [],
   "metadata": {}
  },
  {
   "cell_type": "markdown",
   "source": [
    "### Effect of Noise\n",
    "\n",
    "The results above are for the scenario where we have no noise in the plant measuremets. Since this is not the reality, an interesting test is to check how it can impact the RTO performance. For that, we consider a 0.01 additive gaussian noise, but using the same parameters as the previous system."
   ],
   "metadata": {}
  },
  {
   "cell_type": "code",
   "execution_count": null,
   "source": [
    "noise = 0.01\n",
    "repetitions = 10\n",
    "\n",
    "adaptation_de_noise = MAGaussianProcesses(model, initial_data, ub=ubx, lb=lbx, filter_data=True, neighbors_type='k_last')\n",
    "adaptation_sqp_noise = MAGaussianProcesses(model, initial_data, ub=ubx, lb=lbx, filter_data=True, neighbors_type='k_last')\n",
    "\n",
    "rto_ma_sqp_noise = RTO(model, plant, optimizer_ma_sqp, adaptation_sqp_noise, iterations, db_file=DATABASE, name='MA-GP-SQP+noise', noise=noise)\n",
    "rto_ma_de_noise = RTO(model, plant, optimizer_ma_de, adaptation_de_noise, iterations, db_file=DATABASE, name='MA-GP-DE+noise', noise=noise)\n",
    "\n",
    "for i in range(repetitions):\n",
    "    rto_ma_sqp_noise.run(u_0_feas)\n",
    "    rto_ma_de_noise.run(u_0_feas)"
   ],
   "outputs": [],
   "metadata": {}
  },
  {
   "cell_type": "markdown",
   "source": [
    "### Using different initial data points"
   ],
   "metadata": {}
  },
  {
   "cell_type": "code",
   "execution_count": null,
   "source": [
    "# sample some initial data\n",
    "# generate all the data before\n",
    "n_datasets = 10\n",
    "datasets = []\n",
    "for i in range(n_datasets):\n",
    "    u_i, y_i, measurements_i = generate_samples_uniform(model, plant, g, u_0, initial_data_size, noise=noise)\n",
    "    initial_dataset = Bunch(u=u_i, y=y_i, measurements=measurements_i)\n",
    "    datasets.append(initial_dataset)"
   ],
   "outputs": [],
   "metadata": {}
  },
  {
   "cell_type": "code",
   "execution_count": null,
   "source": [
    "for i in range(n_datasets):\n",
    "    initial_dataset = datasets[i]\n",
    "    # create the adaptation strategy\n",
    "    adaptation_de_noise_dataset = MAGaussianProcesses(model, initial_dataset, ub=ubx, lb=lbx, filter_data=True, neighbors_type='k_last')\n",
    "    adaptation_sqp_noise_dataset = MAGaussianProcesses(model, initial_dataset, ub=ubx, lb=lbx, filter_data=True, neighbors_type='k_last')\n",
    "    # create the RTO\n",
    "    rto_ma_sqp_noise_dataset = RTO(model, plant, optimizer_ma_sqp, adaptation_sqp_noise_dataset, iterations, db_file=DATABASE, name='MA-GP-SQP+noise-datasets', noise=noise)\n",
    "    rto_ma_de_noise_dataset = RTO(model, plant, optimizer_ma_de, adaptation_de_noise_dataset, iterations, db_file=DATABASE, name='MA-GP-DE+noise-datasets', noise=noise)\n",
    "    # run the RTO\n",
    "    u_0_feas_noise = initial_dataset.u[-1]\n",
    "    rto_ma_sqp_noise_dataset.run(u_0_feas_noise)\n",
    "    rto_ma_de_noise_dataset.run(u_0_feas_noise)"
   ],
   "outputs": [],
   "metadata": {}
  },
  {
   "cell_type": "markdown",
   "source": [
    "## EIC acquisition function"
   ],
   "metadata": {}
  },
  {
   "cell_type": "markdown",
   "source": [
    "### Optimizer Choice\n",
    "Using the same initial data as MA-GP without noise."
   ],
   "metadata": {}
  },
  {
   "cell_type": "code",
   "execution_count": null,
   "source": [
    "adaptation_bay_de = MAGaussianProcesses(model, initial_data, ub=ubx, lb=lbx, filter_data=True, neighbors_type='k_last')\n",
    "adaptation_bay_sqp = MAGaussianProcesses(model, initial_data, ub=ubx, lb=lbx, filter_data=True, neighbors_type='k_last')\n",
    "adaptation_bay_nm = MAGaussianProcesses(model, initial_data, ub=ubx, lb=lbx, filter_data=True, neighbors_type='k_last')\n",
    "\n",
    "optimizer_bay_de = ModelBasedBayesianOptimizer(ub=ubx, lb=lbx, g=g, solver={'name': 'de'}, backoff=0.0)\n",
    "optimizer_bay_sqp = ModelBasedBayesianOptimizer(ub=ubx, lb=lbx, g=g, solver={'name': 'sqp'}, backoff=0.0)\n",
    "optimizer_bay_nm = ModelBasedBayesianOptimizer(ub=ubx, lb=lbx, g=g, solver={'name': 'nm'}, backoff=0.0)\n",
    "\n",
    "rto_bay_de = RTOBayesian(model, plant, optimizer_bay_de, adaptation_bay_de, iterations, db_file=DATABASE, name='MA-GP-Bayesian-DE', noise=0.0)\n",
    "rto_bay_sqp = RTOBayesian(model, plant, optimizer_bay_sqp, adaptation_bay_sqp, iterations, db_file=DATABASE, name='MA-GP-Bayesian-SQP', noise=0.0)\n",
    "rto_bay_nm = RTOBayesian(model, plant, optimizer_bay_nm, adaptation_bay_nm, iterations, db_file=DATABASE, name='MA-GP-Bayesian-NM', noise=0.0)\n",
    "\n",
    "u_0_feas = u[-1]\n",
    "rto_bay_sqp.run(u_0_feas)\n",
    "rto_bay_de.run(u_0_feas)\n",
    "rto_bay_nm.run(u_0_feas)"
   ],
   "outputs": [],
   "metadata": {}
  },
  {
   "cell_type": "markdown",
   "source": [
    "### Different initial points with noise"
   ],
   "metadata": {}
  },
  {
   "cell_type": "code",
   "execution_count": null,
   "source": [
    "for i in range(n_datasets):\n",
    "    initial_dataset = datasets[i]\n",
    "    adaptation_bay_de_noise = MAGaussianProcesses(model, initial_dataset, ub=ubx, lb=lbx, filter_data=True, neighbors_type='k_last')\n",
    "    rto_bay_de_noise = RTOBayesian(model, plant, optimizer_bay_de, adaptation_bay_de_noise, iterations, db_file=DATABASE, name='MA-GP-Bayesian-DE+noise-datasets', noise=noise)\n",
    "\n",
    "    adaptation_bay_nm_noise = MAGaussianProcesses(model, initial_dataset, ub=ubx, lb=lbx, filter_data=True, neighbors_type='k_last')\n",
    "    rto_bay_nm_noise = RTOBayesian(model, plant, optimizer_bay_nm, adaptation_bay_nm_noise, iterations, db_file=DATABASE, name='MA-GP-Bayesian-NM+noise-datasets', noise=noise)\n",
    "    \n",
    "    rto_bay_de_noise.run(initial_dataset.u[-1])\n",
    "    rto_bay_nm_noise.run(initial_dataset.u[-1])"
   ],
   "outputs": [],
   "metadata": {}
  }
 ],
 "metadata": {
  "interpreter": {
   "hash": "340861b49ceb10eab6e90e49bcadd95c453101e2c5221b8cc6029df2c3998086"
  },
  "kernelspec": {
   "name": "python3",
   "display_name": "Python 3.9.6 64-bit ('rto-debug': conda)"
  },
  "language_info": {
   "codemirror_mode": {
    "name": "ipython",
    "version": 3
   },
   "file_extension": ".py",
   "mimetype": "text/x-python",
   "name": "python",
   "nbconvert_exporter": "python",
   "pygments_lexer": "ipython3",
   "version": "3.9.6"
  }
 },
 "nbformat": 4,
 "nbformat_minor": 2
}